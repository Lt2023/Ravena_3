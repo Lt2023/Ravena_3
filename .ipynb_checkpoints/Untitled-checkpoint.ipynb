{
 "cells": [
  {
   "cell_type": "code",
   "execution_count": null,
   "id": "cbeaf8d1-a216-427e-ba7c-d4404c1b3216",
   "metadata": {},
   "outputs": [],
   "source": [
    "from model import LanguageModel\n",
    "\n",
    "def main():\n",
    "    \"\"\"\n",
    "    主函数，用于与用户进行交互式对话。\n",
    "    \"\"\"\n",
    "    model = LanguageModel()  # 初始化模型\n",
    "\n",
    "    print(\"加载训练好的模型...\")\n",
    "\n",
    "    while True:\n",
    "        question = input(\"你好！请问你有什么问题？输入 'exit' 退出程序。\\n\")\n",
    "\n",
    "        if question.lower() == 'exit':  \n",
    "            print(\"退出程序...\")\n",
    "            break\n",
    "\n",
    "        response = model.generate_answer(question)  # 使用模型生成回答\n",
    "        print(f\"模型的回答：{response}\\n\")\n",
    "\n",
    "if __name__ == \"__main__\":\n",
    "    main()"
   ]
  }
 ],
 "metadata": {
  "kernelspec": {
   "display_name": "Python 3 (ipykernel)",
   "language": "python",
   "name": "python3"
  },
  "language_info": {
   "codemirror_mode": {
    "name": "ipython",
    "version": 3
   },
   "file_extension": ".py",
   "mimetype": "text/x-python",
   "name": "python",
   "nbconvert_exporter": "python",
   "pygments_lexer": "ipython3",
   "version": "3.10.12"
  }
 },
 "nbformat": 4,
 "nbformat_minor": 5
}
